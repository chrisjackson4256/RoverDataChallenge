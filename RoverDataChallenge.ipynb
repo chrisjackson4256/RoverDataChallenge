{
 "cells": [
  {
   "cell_type": "markdown",
   "metadata": {},
   "source": [
    "# Rover Data Challenge\n",
    "\n",
    "In this exercise, imagine that Rover has acquired a small pet care start-up. As an analyst, you have been tasked with the responsibility of exploring their database."
   ]
  },
  {
   "cell_type": "markdown",
   "metadata": {},
   "source": [
    "### import libraries"
   ]
  },
  {
   "cell_type": "code",
   "execution_count": 1,
   "metadata": {},
   "outputs": [],
   "source": [
    "import math\n",
    "import datetime as dt\n",
    "from collections import Counter\n",
    "import numpy as np\n",
    "import pandas as pd\n",
    "from scipy.stats import chi2_contingency\n",
    "from scipy import stats\n",
    "import warnings\n",
    "warnings.filterwarnings('ignore')\n",
    "\n",
    "import matplotlib.pyplot as plt\n",
    "%matplotlib inline"
   ]
  },
  {
   "cell_type": "markdown",
   "metadata": {},
   "source": [
    "### import data"
   ]
  },
  {
   "cell_type": "code",
   "execution_count": 2,
   "metadata": {},
   "outputs": [],
   "source": [
    "# data on users from the site (dog owners, dog sitters or people who have not transacted on site)\n",
    "people_person = pd.read_csv(\"csvs/people_person.csv\")\n",
    "\n",
    "# data table that provides a log for experiments which require user- level segmentations\n",
    "people_test = pd.read_csv(\"csvs/people_testsegmentation.csv\")\n",
    "\n",
    "# data on pets registered by owners\n",
    "pets_pet = pd.read_csv(\"csvs/pets_pet.csv\")\n",
    "\n",
    "# data for each service that is offered\n",
    "services_service = pd.read_csv(\"csvs/services_service.csv\")\n",
    "\n",
    "# data that contains one record for each conversation started on our platform\n",
    "conversations_conversation = pd.read_csv(\"csvs/conversations_conversation.csv\")\n",
    "\n",
    "# data that foreign keys since a booking may involve many pets and many pets might have many bookings\n",
    "conversations_conversation_pets = pd.read_csv(\"csvs/conversations_conversation_pets.csv\")\n",
    "\n",
    "# data on conversations - Each conversation consists of a series of messages. \n",
    "#                         A conversation may contain many messages, but not vice versa.\n",
    "conversations_message = pd.read_csv(\"csvs/conversations_message.csv\")\n",
    "\n",
    "# data on reviews which consist of a brief statement and a star rating\n",
    "conversations_review = pd.read_csv(\"csvs/conversations_review.csv\")\n",
    "\n",
    "# choice to view data details\n",
    "if False:\n",
    "    # print the dimensions of the dataframes\n",
    "    print(\"Dimensions of people_person: \", people_person.shape)\n",
    "    print(\"Columns of people_persons: \")\n",
    "    print(people_person.columns.tolist())\n",
    "    print()\n",
    "    print(\"-\" * 20)\n",
    "    print()\n",
    "    print(\"Dimensions of people_test: \", people_test.shape)\n",
    "    print(\"Columns of people_test: \")\n",
    "    print(people_test.columns.tolist())\n",
    "    print()\n",
    "    print(\"-\" * 20)\n",
    "    print()\n",
    "    print(\"Dimensions of pets_pet: \", pets_pet.shape)\n",
    "    print(\"Columns of pets_pet: \")\n",
    "    print(pets_pet.columns.tolist())\n",
    "    print()\n",
    "    print(\"-\" * 20)\n",
    "    print()\n",
    "    print(\"Dimensions of services_service: \", services_service.shape)\n",
    "    print(\"Columns of services_service: \")\n",
    "    print(services_service.columns.tolist())\n",
    "    print()\n",
    "    print(\"-\" * 20)\n",
    "    print()\n",
    "    print(\"Dimensions of conversations_conversation: \", conversations_conversation.shape)\n",
    "    print(\"Columns of conversations_conversation: \")\n",
    "    print(conversations_conversation.columns.tolist())\n",
    "    print()\n",
    "    print(\"-\" * 20)\n",
    "    print()\n",
    "    print(\"Dimensions of conversations_conversation_pets: \", conversations_conversation_pets.shape)\n",
    "    print(\"Columns of conversations_conversation_pets: \")\n",
    "    print(conversations_conversation_pets.columns.tolist())\n",
    "    print()\n",
    "    print(\"-\" * 20)\n",
    "    print()\n",
    "    print(\"Dimensions of conversations_message: \", conversations_message.shape)\n",
    "    print(\"Columns of conversations_message: \")\n",
    "    print(conversations_message.columns.tolist())\n",
    "    print()\n",
    "    print(\"-\" * 20)\n",
    "    print()\n",
    "    print(\"Dimensions of conversations_review: \", conversations_review.shape)\n",
    "    print(\"Columns of conversations_review: \")\n",
    "    print(conversations_review.columns.tolist())\n",
    "    print()"
   ]
  },
  {
   "cell_type": "markdown",
   "metadata": {},
   "source": [
    "## I. Exploring the Dataset\n",
    "\n",
    "We begin by asking a few basic questions about the users of this platform. This first exercise is presented with answers so that you can diagnose any issues you might have connecting to or working with the data."
   ]
  },
  {
   "cell_type": "markdown",
   "metadata": {},
   "source": [
    "### 1. How many users have signed up?\n",
    "\n",
    "To answer this, we simply count the number of unique \"id\" identifiers in the people_person table."
   ]
  },
  {
   "cell_type": "code",
   "execution_count": 3,
   "metadata": {},
   "outputs": [
    {
     "name": "stdout",
     "output_type": "stream",
     "text": [
      "The number of users signed up is:  64416\n"
     ]
    }
   ],
   "source": [
    "num_unique_users = len(people_person['id'].unique())\n",
    "print(\"The number of users signed up is: \", num_unique_users)"
   ]
  },
  {
   "cell_type": "markdown",
   "metadata": {},
   "source": [
    "### 2. How many users signed up prior to 2017-01-12?\n",
    "\n",
    "First, we filter out people who signed up after 2017-01-12 and then count the unique identifiers as in #1."
   ]
  },
  {
   "cell_type": "code",
   "execution_count": 4,
   "metadata": {},
   "outputs": [
    {
     "name": "stdout",
     "output_type": "stream",
     "text": [
      "The number of users signed up prior to 2017-01-12 is:  35500\n"
     ]
    }
   ],
   "source": [
    "# filter out people who joined prior to date\n",
    "num_early_users = len(people_person[people_person['date_joined'] <= '2017-01-12']['id'].unique())\n",
    "\n",
    "print(\"The number of users signed up prior to 2017-01-12 is: \", num_early_users)"
   ]
  },
  {
   "cell_type": "markdown",
   "metadata": {},
   "source": [
    "### 3. What percentage of users have added pets?\n",
    "\n",
    "To answer this question, we can use the pets_pet dataframe."
   ]
  },
  {
   "cell_type": "code",
   "execution_count": 5,
   "metadata": {},
   "outputs": [
    {
     "name": "stdout",
     "output_type": "stream",
     "text": [
      "The percentage of users who have added pets is: 80.44%.\n"
     ]
    }
   ],
   "source": [
    "# first, find the number of users with pets\n",
    "num_users_w_pets = len(pets_pet['owner_id'].unique())\n",
    "\n",
    "# then, use this and num_unique_users to compute the percentage\n",
    "pct_users_w_pets = round(num_users_w_pets / num_unique_users * 100., 2)\n",
    "\n",
    "print(\"The percentage of users who have added pets is: \" + str(pct_users_w_pets) + \"%.\" )"
   ]
  },
  {
   "cell_type": "markdown",
   "metadata": {},
   "source": [
    "### 4. Of those owners, how many pets have they added on average?\n",
    "\n",
    "Take the number of pets (number of rows in pets_pet) and divide by num_users_w_pets."
   ]
  },
  {
   "cell_type": "code",
   "execution_count": 6,
   "metadata": {},
   "outputs": [
    {
     "name": "stdout",
     "output_type": "stream",
     "text": [
      "The average number of added pets is:  1.496\n"
     ]
    }
   ],
   "source": [
    "avg_num_pets = round(len(pets_pet) / num_users_w_pets, 3)\n",
    "\n",
    "print(\"The average number of added pets is: \", avg_num_pets)"
   ]
  },
  {
   "cell_type": "markdown",
   "metadata": {},
   "source": [
    "### 5. What percentage of pets that play well with cats?\n",
    "\n",
    "Sum the \"plays_cats\" column to get number of pets that play well with cats.  Then, divide by the total number of pets."
   ]
  },
  {
   "cell_type": "code",
   "execution_count": 7,
   "metadata": {},
   "outputs": [
    {
     "name": "stdout",
     "output_type": "stream",
     "text": [
      "The percentage of pets that play well with cats is: 24.78%.\n"
     ]
    }
   ],
   "source": [
    "pct_play_well_cats = round(pets_pet['plays_cats'].sum() / len(pets_pet) * 100., 2)\n",
    "\n",
    "print(\"The percentage of pets that play well with cats is: \" + str(pct_play_well_cats) + \"%.\")"
   ]
  },
  {
   "cell_type": "markdown",
   "metadata": {},
   "source": [
    "## II. Conversations and Bookings\n",
    "\n",
    "Some users can offer pet care services. When an owner needs pet care, they can create a conversation with another user that offers the service they are interested in. After exchanging some messages and possibly meeting in person, that conversation hopefully books. In that case, services are paid for and delivered. Occasionally, some conversations that have booked may be cancelled. Lastly, for uncancelled bookings, both owners and sitters have the option of leaving a review. In the following questions, we explore these concepts."
   ]
  },
  {
   "cell_type": "markdown",
   "metadata": {},
   "source": [
    "### 1. What are the possible services and what is the average price per unit for each service type?\n",
    "\n",
    "To answer this question, we can use the services_service table."
   ]
  },
  {
   "cell_type": "code",
   "execution_count": 8,
   "metadata": {},
   "outputs": [
    {
     "name": "stdout",
     "output_type": "stream",
     "text": [
      "The available services are: \n",
      "--------------------\n",
      "Average price per unit for boarding: $34.51\n",
      "--------------------\n",
      "Average price per unit for dog-walking: $21.98\n",
      "--------------------\n",
      "Average price per unit for day-care: $27.01\n"
     ]
    }
   ],
   "source": [
    "# first, we find the unique service types\n",
    "service_types = list(services_service['service_type'].unique())\n",
    "\n",
    "print(\"The available services are: \")\n",
    "\n",
    "# now loop thru the service types and print avg price per unit\n",
    "for service in service_types:\n",
    "    \n",
    "    service_df = services_service[services_service['service_type'] == service]\n",
    "    print(\"-\" * 20)\n",
    "    print(\"Average price per unit for \" + service + \": $\" + str(round(service_df['price'].mean(), 2)))"
   ]
  },
  {
   "cell_type": "markdown",
   "metadata": {},
   "source": [
    "### 2. How many requests have there been for each service type and what percentage of those have booked? The percentage of those that have booked is called booking rate."
   ]
  },
  {
   "cell_type": "code",
   "execution_count": 9,
   "metadata": {},
   "outputs": [
    {
     "name": "stdout",
     "output_type": "stream",
     "text": [
      "--------------------\n",
      "There were 26665 requests for boarding\n",
      "The booking rate for boarding was 40.74%\n",
      "--------------------\n",
      "There were 26716 requests for dog-walking\n",
      "The booking rate for dog-walking was 47.95%\n",
      "--------------------\n",
      "There were 26362 requests for day-care\n",
      "The booking rate for day-care was 35.72%\n"
     ]
    }
   ],
   "source": [
    "# join conversations_conversation with services_service on [\"service_id\", \"id\"] to get service_type \n",
    "requests_df = pd.merge(services_service, conversations_conversation, how='inner', left_on=\"id\", right_on=\"service_id\")\n",
    "requests_df = requests_df[['service_type', 'booked_at']]\n",
    "\n",
    "# loop thru services and compute number of requests each and how many booked\n",
    "for service in service_types:\n",
    "    \n",
    "    # filter out service\n",
    "    service_df = requests_df[requests_df['service_type'] == service]\n",
    "    \n",
    "    # compute total number of service requests\n",
    "    num_service_requests = len(service_df)\n",
    "    \n",
    "    # those not booked show up as NaN, so drop these\n",
    "    service_df.dropna(inplace=True)\n",
    "    \n",
    "    # compute total number of service requests remaining\n",
    "    num_service_booked = len(service_df)\n",
    "    \n",
    "    # booking rate\n",
    "    booking_rate = round(num_service_booked / num_service_requests * 100., 2)\n",
    "    \n",
    "    print(\"-\" * 20)\n",
    "    print(\"There were {} requests for {}\".format(num_service_requests, service))\n",
    "    print(\"The booking rate for {} was {}%\".format(service, booking_rate))"
   ]
  },
  {
   "cell_type": "markdown",
   "metadata": {},
   "source": [
    "### 3. What are the cancellation rates for each service?"
   ]
  },
  {
   "cell_type": "code",
   "execution_count": 10,
   "metadata": {},
   "outputs": [
    {
     "name": "stdout",
     "output_type": "stream",
     "text": [
      "--------------------\n",
      "There were 26665 requests for boarding\n",
      "The cancellation rate for boarding was 3.94%\n",
      "--------------------\n",
      "There were 26716 requests for dog-walking\n",
      "The cancellation rate for dog-walking was 4.56%\n",
      "--------------------\n",
      "There were 26362 requests for day-care\n",
      "The cancellation rate for day-care was 3.49%\n"
     ]
    }
   ],
   "source": [
    "# join conversations_conversation with services_service on [\"service_id\", \"id\"] to get service_type \n",
    "requests_df = pd.merge(services_service, conversations_conversation, how='inner', left_on=\"id\", right_on=\"service_id\")\n",
    "requests_df = requests_df[['service_type', 'cancelled_at']]\n",
    "\n",
    "# loop thru services and compute number of requests each and how many cancelled\n",
    "for service in service_types:\n",
    "    \n",
    "    # filter out service\n",
    "    service_df = requests_df[requests_df['service_type'] == service]\n",
    "    \n",
    "    # compute total number of service requests\n",
    "    num_service_requests = len(service_df)\n",
    "    \n",
    "    # those not canceled show up as NaN, so drop these\n",
    "    service_df.dropna(inplace=True)\n",
    "    \n",
    "    # compute total number of service requests remaining\n",
    "    num_service_cancelled = len(service_df)\n",
    "    \n",
    "    # cancelled rate\n",
    "    cancellation_rate = round(num_service_cancelled / num_service_requests * 100., 2)\n",
    "    \n",
    "    print(\"-\" * 20)\n",
    "    print(\"There were {} requests for {}\".format(num_service_requests, service))\n",
    "    print(\"The cancellation rate for {} was {}%\".format(service, cancellation_rate))"
   ]
  },
  {
   "cell_type": "markdown",
   "metadata": {},
   "source": [
    "### 4. For uncancelled bookings, is the owner or provider more likely to leave a review and which tends to leave better reviews? How would you narrate this finding to a business partner?\n",
    "\n",
    "To answer these questions, we need to make use of the conversation_review and conversation_conversations tables."
   ]
  },
  {
   "cell_type": "code",
   "execution_count": 11,
   "metadata": {},
   "outputs": [
    {
     "name": "stdout",
     "output_type": "stream",
     "text": [
      "--------------------\n",
      "Number of owner reviews:  22493\n",
      "Owner average review score:  4.41\n",
      "--------------------\n",
      "Number of provider reviews:  6043\n",
      "Provider average review score:  3.89\n"
     ]
    }
   ],
   "source": [
    "# extract only the columns that we need from the review table\n",
    "review_test = conversations_review[['id', 'stars', 'conversation_id', 'reviewer_id']]\n",
    "\n",
    "# extract only the columns we need from the conversation table\n",
    "conversation_test = conversations_conversation[['id', 'requester_id', 'booked_at', 'cancelled_at']]\n",
    "\n",
    "# filter out requests that were never booked\n",
    "conversation_test = conversation_test[pd.notnull(conversation_test['booked_at'])]\n",
    "\n",
    "# filter out bookings that were NOT cancelled\n",
    "conversation_test = conversation_test[pd.isnull(conversation_test['cancelled_at'])]\n",
    "\n",
    "# further filter the columns we need\n",
    "conversation_test = conversation_test[['id', 'requester_id']]\n",
    "\n",
    "# merge the two tables into one table that will allow us to easily answer the questions\n",
    "review_test = pd.merge(review_test, conversation_test, how='inner', left_on=\"conversation_id\", right_on=\"id\")\n",
    "\n",
    "# and keep only the columns we need\n",
    "review_test = review_test[['stars', 'reviewer_id', 'requester_id']]\n",
    "\n",
    "# build a column that tells us if the review came from the pet owner\n",
    "review_test['review_by_requester'] = review_test['reviewer_id'] == review_test['requester_id']\n",
    "\n",
    "# count the number of owner reviews and compute average review score\n",
    "owner_reviews = review_test[review_test['review_by_requester'] == True]\n",
    "num_owner_reviews = len(owner_reviews)\n",
    "avg_owner_review = round(owner_reviews['stars'].mean(), 2)\n",
    "\n",
    "# count the number of provider reviews and compute average review score\n",
    "provider_reviews = review_test[review_test['review_by_requester'] == False]\n",
    "num_provider_reviews = len(provider_reviews)\n",
    "avg_provider_review = round(provider_reviews['stars'].mean(), 2)\n",
    "\n",
    "print('-' * 20)\n",
    "print(\"Number of owner reviews: \", num_owner_reviews)\n",
    "print(\"Owner average review score: \", avg_owner_review)\n",
    "\n",
    "print('-' * 20)\n",
    "print(\"Number of provider reviews: \", num_provider_reviews)\n",
    "print(\"Provider average review score: \", avg_provider_review)"
   ]
  },
  {
   "cell_type": "markdown",
   "metadata": {},
   "source": [
    "It appears that owners are much more likely to leave a review.  Also, on average, owner reviews tend to be higher by 0.5 stars.\n",
    "\n",
    "I would think that people that are very happy with a service will want to reward providers, thus, the higher scores.  Also, from my past experience with other similar services, I would think that providers will encourage owners (who they think are happy with their service) to leave reviews since that is essentially how they advertise."
   ]
  },
  {
   "cell_type": "markdown",
   "metadata": {},
   "source": [
    "## III. Recent Daily Booking Rate\n",
    "\n",
    "The snapshot of this database was taken on 2017-07-11 at midnight and only contains data reflecting events prior to that date. A junior analyst is investigating daily booking rate during the days prior to the snapshot and is concerned about an apparent downward trend. You are tasked with helping them out."
   ]
  },
  {
   "cell_type": "markdown",
   "metadata": {},
   "source": [
    "### 1. First, let's reproduce their results. They tell you that daily booking rate is defined to be the percentage of conversations created each day that eventually book. What is the daily booking rate for each of the 90 days prior to the snapshot? Is there a downward trend?\n",
    "\n",
    "To find the daily booking rate, we make use of the conversations_conversation table.  \n",
    "\n",
    "First, we define the end date (2017-07-11) and the beginning date (which is 90 days prior to the end date) and filter the dataframe such that it only includes entries from those dates.\n",
    "\n",
    "We then group by the date and count all of the conversations that started that day and sum up the bookings that resulted.  Dividing the latter by the former gives us the booking rate for each day.\n",
    "\n",
    "To answer whether or not a downward trend occurs, we plot the booking rate over the past 90 days.  Because the data could be volatile (changing wildly from day-to-day), we also compute the \"rolling mean\" which averages over the past 30 days and produces a much more stable plot."
   ]
  },
  {
   "cell_type": "code",
   "execution_count": 12,
   "metadata": {},
   "outputs": [
    {
     "data": {
      "image/png": "[encoded data removed]",
      "text/plain": [
       "<matplotlib.figure.Figure at 0x1134b3d30>"
      ]
     },
     "metadata": {},
     "output_type": "display_data"
    }
   ],
   "source": [
    "# keep only the columns we need from the converation table\n",
    "conversations_df = conversations_conversation[['start_date', 'booked_at']]\n",
    "\n",
    "# define the end and start dates \n",
    "snapshot_date = dt.datetime.strptime('2017-07-11', '%Y-%m-%d')\n",
    "begin_date = snapshot_date - dt.timedelta(days=90)\n",
    "\n",
    "# keep only dates in the range we're interested in\n",
    "conversations_df['start_date'] = pd.to_datetime(conversations_df['start_date'])\n",
    "conversations_df = conversations_df[(conversations_df['start_date'] >= begin_date) &\\\n",
    "                                    (conversations_df['start_date'] < snapshot_date)]\n",
    "\n",
    "# make a boolean column for booked\n",
    "conversations_df['booked'] = pd.notnull(conversations_df['booked_at'])\n",
    "\n",
    "# drop the (now) unnecessary \"booked_at\" column\n",
    "conversations_df.drop('booked_at', axis=1, inplace=True)\n",
    "\n",
    "# group by day and sum booked\n",
    "grouped_sum_df = pd.DataFrame(conversations_df.groupby('start_date')['booked'].sum())\n",
    "grouped_sum_df.reset_index(inplace=True, drop=False)\n",
    "grouped_sum_df.sort_values(by='start_date', inplace=True)\n",
    "\n",
    "# group by day and count booked\n",
    "grouped_count_df = pd.DataFrame(conversations_df.groupby('start_date')['booked'].count())\n",
    "grouped_count_df.reset_index(inplace=True, drop=False)\n",
    "grouped_count_df.sort_values(by='start_date', inplace=True)\n",
    "grouped_count_df.rename(columns={'booked': 'started'}, inplace=True)\n",
    "\n",
    "grouped_df = pd.merge(grouped_sum_df, grouped_count_df, on='start_date')\n",
    "\n",
    "# compute the booking rate for each day\n",
    "grouped_df['booking_rate']  = round(grouped_df['booked'] / grouped_df['started'] * 100., 1)\n",
    "\n",
    "# compute a \"rolling mean\" to smooth out the curve\n",
    "grouped_df['rolling_mean'] = grouped_df['booking_rate'].rolling(window=30).mean()\n",
    "\n",
    "# plot the booking rate\n",
    "fig = plt.figure(figsize=(15, 8))\n",
    "plt.plot_date(grouped_df['start_date'].tolist(), grouped_df['booking_rate'].tolist(), '-', label='Booking Rate')\n",
    "plt.plot_date(grouped_df['start_date'].tolist(), grouped_df['rolling_mean'].tolist(), '-', color='red', label='30 Day Moving Average Booking Rate')\n",
    "plt.xlabel(\"Date\")\n",
    "plt.ylabel(\"Booking Rate\")\n",
    "plt.title(\"Booking Rate for the Past 90 Days\")\n",
    "plt.legend(loc='best')\n",
    "plt.show()"
   ]
  },
  {
   "cell_type": "markdown",
   "metadata": {},
   "source": [
    "The booking rate does indeed appear to be very volatile over time, but looking at the 30-day moving average it becomes very apparent that there is NOT a long-term downward trend."
   ]
  },
  {
   "cell_type": "markdown",
   "metadata": {},
   "source": [
    "### 2. Can you narrate a reason why this trend exists? Is there a reason to be concerned?\n",
    "\n",
    "As stated above, the downward trend over the past couple of days (if it does exist) is nothing to be worried about.  We have observed that the booking rate is extremely volatile; however, when viewed as a moving average, the booking rate appears to be quite steady. "
   ]
  },
  {
   "cell_type": "markdown",
   "metadata": {},
   "source": [
    "## IV. Analyzing Take Rate\n",
    "\n",
    "In order to do the next exercise, you will need to understand the fee structure for this company. Each user has a fee associated with their account (recorded on people_person). If that user books as an owner, the company charges a service fee (in addition to the booking total) that is a percentage of the booking total (to a maximum of 50 dollars). Also, each service has a fee amount (recorded on services_service ). Before a provider receives their payment, the company takes a percentage of the booking total as dictated by that fee. As an example, suppose an owner has a fee amount of 5% and books with a service that has a fee amount of 15%. If the booking was for 100 dollars, then the owner would get charged 105 dollars (adding the owner’s fee). The 5 dollar owner fee would go to the company. An additional 15 dollars would also go to the company since the service had a 15% fee associated to it. The remaining 85 dollars would go to the provider."
   ]
  },
  {
   "cell_type": "markdown",
   "metadata": {},
   "source": [
    "### 1. In each month, what were the gross billings and net revenue?"
   ]
  },
  {
   "cell_type": "code",
   "execution_count": 13,
   "metadata": {},
   "outputs": [
    {
     "data": {
      "text/html": [
       "<div>\n",
       "<style>\n",
       "    .dataframe thead tr:only-child th {\n",
       "        text-align: right;\n",
       "    }\n",
       "\n",
       "    .dataframe thead th {\n",
       "        text-align: left;\n",
       "    }\n",
       "\n",
       "    .dataframe tbody tr th {\n",
       "        vertical-align: top;\n",
       "    }\n",
       "</style>\n",
       "<table border=\"1\" class=\"dataframe\">\n",
       "  <thead>\n",
       "    <tr style=\"text-align: right;\">\n",
       "      <th></th>\n",
       "      <th></th>\n",
       "      <th>gross_billings</th>\n",
       "      <th>net_revenue</th>\n",
       "    </tr>\n",
       "    <tr>\n",
       "      <th>year</th>\n",
       "      <th>month</th>\n",
       "      <th></th>\n",
       "      <th></th>\n",
       "    </tr>\n",
       "  </thead>\n",
       "  <tbody>\n",
       "    <tr>\n",
       "      <th rowspan=\"6\" valign=\"top\">2015</th>\n",
       "      <th>7</th>\n",
       "      <td>5306.04</td>\n",
       "      <td>884.34</td>\n",
       "    </tr>\n",
       "    <tr>\n",
       "      <th>8</th>\n",
       "      <td>32549.22</td>\n",
       "      <td>5424.87</td>\n",
       "    </tr>\n",
       "    <tr>\n",
       "      <th>9</th>\n",
       "      <td>52480.02</td>\n",
       "      <td>8746.67</td>\n",
       "    </tr>\n",
       "    <tr>\n",
       "      <th>10</th>\n",
       "      <td>105207.90</td>\n",
       "      <td>17534.65</td>\n",
       "    </tr>\n",
       "    <tr>\n",
       "      <th>11</th>\n",
       "      <td>128539.38</td>\n",
       "      <td>21423.23</td>\n",
       "    </tr>\n",
       "    <tr>\n",
       "      <th>12</th>\n",
       "      <td>177298.62</td>\n",
       "      <td>32184.92</td>\n",
       "    </tr>\n",
       "    <tr>\n",
       "      <th rowspan=\"12\" valign=\"top\">2016</th>\n",
       "      <th>1</th>\n",
       "      <td>232145.34</td>\n",
       "      <td>43343.34</td>\n",
       "    </tr>\n",
       "    <tr>\n",
       "      <th>2</th>\n",
       "      <td>256996.50</td>\n",
       "      <td>48174.45</td>\n",
       "    </tr>\n",
       "    <tr>\n",
       "      <th>3</th>\n",
       "      <td>350685.03</td>\n",
       "      <td>65975.83</td>\n",
       "    </tr>\n",
       "    <tr>\n",
       "      <th>4</th>\n",
       "      <td>389562.60</td>\n",
       "      <td>73375.60</td>\n",
       "    </tr>\n",
       "    <tr>\n",
       "      <th>5</th>\n",
       "      <td>446291.49</td>\n",
       "      <td>86739.59</td>\n",
       "    </tr>\n",
       "    <tr>\n",
       "      <th>6</th>\n",
       "      <td>518787.24</td>\n",
       "      <td>104522.39</td>\n",
       "    </tr>\n",
       "    <tr>\n",
       "      <th>7</th>\n",
       "      <td>573768.48</td>\n",
       "      <td>118272.33</td>\n",
       "    </tr>\n",
       "    <tr>\n",
       "      <th>8</th>\n",
       "      <td>649187.40</td>\n",
       "      <td>136863.00</td>\n",
       "    </tr>\n",
       "    <tr>\n",
       "      <th>9</th>\n",
       "      <td>696129.84</td>\n",
       "      <td>149740.89</td>\n",
       "    </tr>\n",
       "    <tr>\n",
       "      <th>10</th>\n",
       "      <td>781151.49</td>\n",
       "      <td>169266.49</td>\n",
       "    </tr>\n",
       "    <tr>\n",
       "      <th>11</th>\n",
       "      <td>834700.56</td>\n",
       "      <td>186652.41</td>\n",
       "    </tr>\n",
       "    <tr>\n",
       "      <th>12</th>\n",
       "      <td>958485.53</td>\n",
       "      <td>220659.58</td>\n",
       "    </tr>\n",
       "    <tr>\n",
       "      <th rowspan=\"7\" valign=\"top\">2017</th>\n",
       "      <th>1</th>\n",
       "      <td>1010287.50</td>\n",
       "      <td>234667.00</td>\n",
       "    </tr>\n",
       "    <tr>\n",
       "      <th>2</th>\n",
       "      <td>1005105.64</td>\n",
       "      <td>236198.69</td>\n",
       "    </tr>\n",
       "    <tr>\n",
       "      <th>3</th>\n",
       "      <td>1203661.83</td>\n",
       "      <td>284086.43</td>\n",
       "    </tr>\n",
       "    <tr>\n",
       "      <th>4</th>\n",
       "      <td>1260994.68</td>\n",
       "      <td>299221.78</td>\n",
       "    </tr>\n",
       "    <tr>\n",
       "      <th>5</th>\n",
       "      <td>1459688.00</td>\n",
       "      <td>350271.40</td>\n",
       "    </tr>\n",
       "    <tr>\n",
       "      <th>6</th>\n",
       "      <td>1560214.45</td>\n",
       "      <td>376001.65</td>\n",
       "    </tr>\n",
       "    <tr>\n",
       "      <th>7</th>\n",
       "      <td>562715.89</td>\n",
       "      <td>135618.09</td>\n",
       "    </tr>\n",
       "  </tbody>\n",
       "</table>\n",
       "</div>"
      ],
      "text/plain": [
       "            gross_billings  net_revenue\n",
       "year month                             \n",
       "2015 7             5306.04       884.34\n",
       "     8            32549.22      5424.87\n",
       "     9            52480.02      8746.67\n",
       "     10          105207.90     17534.65\n",
       "     11          128539.38     21423.23\n",
       "     12          177298.62     32184.92\n",
       "2016 1           232145.34     43343.34\n",
       "     2           256996.50     48174.45\n",
       "     3           350685.03     65975.83\n",
       "     4           389562.60     73375.60\n",
       "     5           446291.49     86739.59\n",
       "     6           518787.24    104522.39\n",
       "     7           573768.48    118272.33\n",
       "     8           649187.40    136863.00\n",
       "     9           696129.84    149740.89\n",
       "     10          781151.49    169266.49\n",
       "     11          834700.56    186652.41\n",
       "     12          958485.53    220659.58\n",
       "2017 1          1010287.50    234667.00\n",
       "     2          1005105.64    236198.69\n",
       "     3          1203661.83    284086.43\n",
       "     4          1260994.68    299221.78\n",
       "     5          1459688.00    350271.40\n",
       "     6          1560214.45    376001.65\n",
       "     7           562715.89    135618.09"
      ]
     },
     "execution_count": 13,
     "metadata": {},
     "output_type": "execute_result"
    }
   ],
   "source": [
    "conversation_df = conversations_conversation[['added', 'requester_id', 'service_id', 'booking_total']]\n",
    "conversation_df['added'] = pd.to_datetime(conversation_df['added'])\n",
    "\n",
    "user_df = people_person[['id', 'fee']]\n",
    "user_df.rename(columns={'id': 'requester_id', 'fee': 'user_fee'}, inplace=True)\n",
    "\n",
    "service_df = services_service[['id', 'fee']]\n",
    "service_df.rename(columns={'id': 'service_id', 'fee': 'service_fee'}, inplace=True)\n",
    "\n",
    "take_rate_df = pd.merge(conversation_df, user_df, on='requester_id')\n",
    "take_rate_df = pd.merge(take_rate_df, service_df, on='service_id')\n",
    "\n",
    "# define gross billings column\n",
    "take_rate_df['gross_billings'] = take_rate_df['booking_total'] * ( 1 + take_rate_df['user_fee'])\n",
    "\n",
    "# define net revenue column\n",
    "take_rate_df['net_revenue'] = take_rate_df['booking_total'] * (take_rate_df['user_fee'] + take_rate_df['service_fee'])\n",
    "\n",
    "# keep only columns we need\n",
    "take_rate_df = take_rate_df[['added', 'gross_billings', 'net_revenue']]\n",
    "take_rate_df.set_index('added', inplace=True)\n",
    "\n",
    "# groupby by year and month and sum gross_billings and net_revenue\n",
    "take_rate_grouped = pd.groupby(take_rate_df,\n",
    "                               by=[take_rate_df.index.year,take_rate_df.index.month])[['gross_billings', 'net_revenue']].sum()\n",
    "\n",
    "take_rate_grouped.index.names = ['year', 'month']\n",
    "\n",
    "take_rate_grouped"
   ]
  },
  {
   "cell_type": "markdown",
   "metadata": {},
   "source": [
    "### 2. Define take rate to be the percentage of gross billings that is net revenue. In the previous example, the take rate is slightly more than 19% since \\$20/$105 is approximately 0.1905. In each month, what was the aggregate take rate?\n",
    "\n",
    "Using the results from above, we can easily compute the take rate for each month."
   ]
  },
  {
   "cell_type": "code",
   "execution_count": 14,
   "metadata": {},
   "outputs": [
    {
     "data": {
      "text/html": [
       "<div>\n",
       "<style>\n",
       "    .dataframe thead tr:only-child th {\n",
       "        text-align: right;\n",
       "    }\n",
       "\n",
       "    .dataframe thead th {\n",
       "        text-align: left;\n",
       "    }\n",
       "\n",
       "    .dataframe tbody tr th {\n",
       "        vertical-align: top;\n",
       "    }\n",
       "</style>\n",
       "<table border=\"1\" class=\"dataframe\">\n",
       "  <thead>\n",
       "    <tr style=\"text-align: right;\">\n",
       "      <th></th>\n",
       "      <th></th>\n",
       "      <th>take_rate</th>\n",
       "    </tr>\n",
       "    <tr>\n",
       "      <th>year</th>\n",
       "      <th>month</th>\n",
       "      <th></th>\n",
       "    </tr>\n",
       "  </thead>\n",
       "  <tbody>\n",
       "    <tr>\n",
       "      <th rowspan=\"6\" valign=\"top\">2015</th>\n",
       "      <th>7</th>\n",
       "      <td>16.7</td>\n",
       "    </tr>\n",
       "    <tr>\n",
       "      <th>8</th>\n",
       "      <td>16.7</td>\n",
       "    </tr>\n",
       "    <tr>\n",
       "      <th>9</th>\n",
       "      <td>16.7</td>\n",
       "    </tr>\n",
       "    <tr>\n",
       "      <th>10</th>\n",
       "      <td>16.7</td>\n",
       "    </tr>\n",
       "    <tr>\n",
       "      <th>11</th>\n",
       "      <td>16.7</td>\n",
       "    </tr>\n",
       "    <tr>\n",
       "      <th>12</th>\n",
       "      <td>18.2</td>\n",
       "    </tr>\n",
       "    <tr>\n",
       "      <th rowspan=\"12\" valign=\"top\">2016</th>\n",
       "      <th>1</th>\n",
       "      <td>18.7</td>\n",
       "    </tr>\n",
       "    <tr>\n",
       "      <th>2</th>\n",
       "      <td>18.7</td>\n",
       "    </tr>\n",
       "    <tr>\n",
       "      <th>3</th>\n",
       "      <td>18.8</td>\n",
       "    </tr>\n",
       "    <tr>\n",
       "      <th>4</th>\n",
       "      <td>18.8</td>\n",
       "    </tr>\n",
       "    <tr>\n",
       "      <th>5</th>\n",
       "      <td>19.4</td>\n",
       "    </tr>\n",
       "    <tr>\n",
       "      <th>6</th>\n",
       "      <td>20.1</td>\n",
       "    </tr>\n",
       "    <tr>\n",
       "      <th>7</th>\n",
       "      <td>20.6</td>\n",
       "    </tr>\n",
       "    <tr>\n",
       "      <th>8</th>\n",
       "      <td>21.1</td>\n",
       "    </tr>\n",
       "    <tr>\n",
       "      <th>9</th>\n",
       "      <td>21.5</td>\n",
       "    </tr>\n",
       "    <tr>\n",
       "      <th>10</th>\n",
       "      <td>21.7</td>\n",
       "    </tr>\n",
       "    <tr>\n",
       "      <th>11</th>\n",
       "      <td>22.4</td>\n",
       "    </tr>\n",
       "    <tr>\n",
       "      <th>12</th>\n",
       "      <td>23.0</td>\n",
       "    </tr>\n",
       "    <tr>\n",
       "      <th rowspan=\"7\" valign=\"top\">2017</th>\n",
       "      <th>1</th>\n",
       "      <td>23.2</td>\n",
       "    </tr>\n",
       "    <tr>\n",
       "      <th>2</th>\n",
       "      <td>23.5</td>\n",
       "    </tr>\n",
       "    <tr>\n",
       "      <th>3</th>\n",
       "      <td>23.6</td>\n",
       "    </tr>\n",
       "    <tr>\n",
       "      <th>4</th>\n",
       "      <td>23.7</td>\n",
       "    </tr>\n",
       "    <tr>\n",
       "      <th>5</th>\n",
       "      <td>24.0</td>\n",
       "    </tr>\n",
       "    <tr>\n",
       "      <th>6</th>\n",
       "      <td>24.1</td>\n",
       "    </tr>\n",
       "    <tr>\n",
       "      <th>7</th>\n",
       "      <td>24.1</td>\n",
       "    </tr>\n",
       "  </tbody>\n",
       "</table>\n",
       "</div>"
      ],
      "text/plain": [
       "            take_rate\n",
       "year month           \n",
       "2015 7           16.7\n",
       "     8           16.7\n",
       "     9           16.7\n",
       "     10          16.7\n",
       "     11          16.7\n",
       "     12          18.2\n",
       "2016 1           18.7\n",
       "     2           18.7\n",
       "     3           18.8\n",
       "     4           18.8\n",
       "     5           19.4\n",
       "     6           20.1\n",
       "     7           20.6\n",
       "     8           21.1\n",
       "     9           21.5\n",
       "     10          21.7\n",
       "     11          22.4\n",
       "     12          23.0\n",
       "2017 1           23.2\n",
       "     2           23.5\n",
       "     3           23.6\n",
       "     4           23.7\n",
       "     5           24.0\n",
       "     6           24.1\n",
       "     7           24.1"
      ]
     },
     "execution_count": 14,
     "metadata": {},
     "output_type": "execute_result"
    }
   ],
   "source": [
    "# compute the monthly take rate\n",
    "take_rate_grouped['take_rate'] = round((take_rate_grouped['net_revenue'] / take_rate_grouped['gross_billings']) * 100, 1)\n",
    "\n",
    "# keep only the column we want\n",
    "take_rate_grouped = pd.DataFrame(take_rate_grouped['take_rate'])\n",
    "\n",
    "take_rate_grouped"
   ]
  },
  {
   "cell_type": "markdown",
   "metadata": {},
   "source": [
    "### 3. Did take rate trend up or trend down or remain unchanged over time?\n",
    "\n",
    "Take rate definitely trended up over time.  We can see this even more clearly by plotting the trend rate as a funciton of the date."
   ]
  },
  {
   "cell_type": "code",
   "execution_count": 15,
   "metadata": {},
   "outputs": [
    {
     "data": {
      "image/png": "[encoded data removed]",
      "text/plain": [
       "<matplotlib.figure.Figure at 0x117f631d0>"
      ]
     },
     "metadata": {},
     "output_type": "display_data"
    }
   ],
   "source": [
    "plotting_df = pd.DataFrame(take_rate_grouped[['take_rate']])\n",
    "i = pd.Index(pd.datetime(year, 1, 1) + pd.Timedelta(month, unit='M') for year, month in plotting_df.index)\n",
    "plotting_df.index = i\n",
    "\n",
    "fig = plt.figure(figsize=(15, 8))\n",
    "plotting_df['take_rate'].plot()\n",
    "plt.title(\"Take Rate over Time\")\n",
    "plt.ylabel(\"Take Rate\")\n",
    "plt.show()"
   ]
  },
  {
   "cell_type": "markdown",
   "metadata": {},
   "source": [
    "### 4. If it did change, investigate why and provide an explanation. Be sure to provide additional data/charts/evidence that justify your explanation. Any claims should be backed by data.\n",
    "\n",
    "To answer this question, it helps to take a look at the formula for take rate and break it down.\n",
    "\n",
    "$$ TakeRate = \\frac{NetRevenue}{GrossBilling} = \\frac{BookTotal \\,\\, ( UserFee + ServiceFee )}{BookTotal \\,\\, ( 1 + UserFee)} $$\n",
    "\n",
    "Or:\n",
    "\n",
    "$$ TakeRate = \\frac{UserFee + ServiceFee}{1 + UserFee} $$\n",
    "\n",
    "From this expression, it becomes clear that a rise in take rate must be coming mostly from a rise in service fees (since a rise in user fees is balanced in the numerator and denominator).\n",
    "\n",
    "To test this, we can plot the relative change in user and service fees defined generally as:\n",
    "\n",
    "$$ \\Delta Fee = \\frac{Fee - InitialFee}{InitialFee} $$\n",
    "\n",
    "where \"InitialFee\" was the average service/user fee at the beginning of the time period of interest."
   ]
  },
  {
   "cell_type": "code",
   "execution_count": 16,
   "metadata": {},
   "outputs": [
    {
     "data": {
      "image/png": "[encoded data removed]",
      "text/plain": [
       "<matplotlib.figure.Figure at 0x1185704e0>"
      ]
     },
     "metadata": {},
     "output_type": "display_data"
    }
   ],
   "source": [
    "conversation_df = conversations_conversation[['added', 'requester_id', 'service_id', 'booking_total']]\n",
    "conversation_df['added'] = pd.to_datetime(conversation_df['added'])\n",
    "\n",
    "user_df = people_person[['id', 'fee']]\n",
    "user_df.rename(columns={'id': 'requester_id', 'fee': 'user_fee'}, inplace=True)\n",
    "\n",
    "service_df = services_service[['id', 'fee']]\n",
    "service_df.rename(columns={'id': 'service_id', 'fee': 'service_fee'}, inplace=True)\n",
    "\n",
    "take_rate_df = pd.merge(conversation_df, user_df, on='requester_id')\n",
    "take_rate_df = pd.merge(take_rate_df, service_df, on='service_id')\n",
    "\n",
    "# choose the columns we need from the data table that we created above\n",
    "take_rate_change_df = take_rate_df[['added', 'user_fee', 'service_fee']]\n",
    "take_rate_change_df.set_index('added', inplace=True)\n",
    "\n",
    "# groupby by year and month and sum gross_billings and net_revenue\n",
    "take_rate_changed_grouped = pd.groupby(take_rate_change_df,\n",
    "                               by=[take_rate_change_df.index.year,take_rate_change_df.index.month])[['user_fee', 'service_fee']].mean()\n",
    "take_rate_changed_grouped.index.names = ['year', 'month']\n",
    "\n",
    "# compute the change in service fees\n",
    "take_rate_changed_grouped['delta_service_fee'] = \\\n",
    "    round((take_rate_changed_grouped['service_fee'] - take_rate_changed_grouped['service_fee'].min()) / take_rate_changed_grouped['service_fee'].min() * 100., 1)\n",
    "\n",
    "# compute the change in user fees\n",
    "take_rate_changed_grouped['delta_user_fee'] = \\\n",
    "    round((take_rate_changed_grouped['user_fee'] - take_rate_changed_grouped['user_fee'].min()) / take_rate_changed_grouped['user_fee'].min(), 1)\n",
    "\n",
    "# take the columns that we want to plot\n",
    "take_rate_changed_grouped = take_rate_changed_grouped[['delta_service_fee', 'delta_user_fee']]    \n",
    "\n",
    "# plot the change in user and service fees\n",
    "plotting_df = pd.DataFrame(take_rate_changed_grouped[['delta_user_fee', 'delta_service_fee']])\n",
    "i = pd.Index(pd.datetime(year, 1, 1) + pd.Timedelta(month, unit='M') for year, month in plotting_df.index)\n",
    "plotting_df.index = i\n",
    "\n",
    "fig = plt.figure(figsize=(15, 8))\n",
    "plotting_df['delta_user_fee'].plot(label='Change in User Fee')\n",
    "plotting_df['delta_service_fee'].plot(label='Change in Service Fee')\n",
    "plt.title(\"Change in User/Service Fees over Time\")\n",
    "plt.ylabel(\"Change in Fee pct.\")\n",
    "plt.legend(loc='best')\n",
    "plt.show()"
   ]
  },
  {
   "cell_type": "markdown",
   "metadata": {},
   "source": [
    "Comparing this plot with the plot for take rate, it is easy to see that the sharp rise in service fees is indeed driving the upward trend in the take rate."
   ]
  },
  {
   "cell_type": "markdown",
   "metadata": {},
   "source": [
    "## V. New Conversation Flow\n",
    "\n",
    "Internal documents indicate that this recently acquired company was performing many A/B tests; we would like to investigate one. This platform had a conversation page where owners and service providers could exchange messages as they organized their booking. The team thought this page could use a re-design and set out to improve its UI. A product manager then set up a test to measure the new page's effectiveness. On 2017-03-13 , an A/B test was launched. For those owners who sent a request, they would be randomly assigned to variant or holdout groups. Those users who are in the variant group would see the new conversation flow. However, those in the holdout group would see the old conversation flow. Providers would always see the old conversation flow."
   ]
  },
  {
   "cell_type": "markdown",
   "metadata": {},
   "source": [
    "### 1. Did conversations with the new conversation page book at a higher rate?"
   ]
  },
  {
   "cell_type": "code",
   "execution_count": 17,
   "metadata": {},
   "outputs": [
    {
     "name": "stdout",
     "output_type": "stream",
     "text": [
      "Rate of bookings on holdout group:  0.4\n",
      "Rate of bookings on variant group:  0.47\n"
     ]
    }
   ],
   "source": [
    "# from people_test extract the A/B test\n",
    "conversation_flow_df = people_test[people_test['test_name'] == 'New Conversation Flow']\n",
    "conversation_flow_df.drop(\"test_name\", axis=1, inplace=True)\n",
    "conversation_flow_df.rename(columns={\"person_id\": \"requester_id\"}, inplace=True)\n",
    "\n",
    "# number cases in each group\n",
    "group_counter = Counter(conversation_flow_df['test_group'])\n",
    "num_holdout = group_counter['holdout']\n",
    "num_variant = group_counter['variant']\n",
    "\n",
    "# join with conversations_conversation to get booked_at column\n",
    "conversation_flow_df = pd.merge(conversation_flow_df, conversations_conversation, on=['added', 'requester_id'])\n",
    "\n",
    "# keep only the columns we need\n",
    "conversation_flow_df = conversation_flow_df[['test_group', 'added', 'booked_at']]\n",
    "\n",
    "# define a boolean \"booked\" column\n",
    "conversation_flow_df['booked'] = pd.notnull(conversation_flow_df['booked_at'])\n",
    "\n",
    "# get number of holdout bookings\n",
    "num_holdout_books = len(conversation_flow_df[(conversation_flow_df['test_group'] == 'holdout') &\\\n",
    "                                             (conversation_flow_df['booked'] == True)])\n",
    "\n",
    "# get number of variant bookings\n",
    "num_variant_books = len(conversation_flow_df[(conversation_flow_df['test_group'] == 'variant') &\\\n",
    "                                             (conversation_flow_df['booked'] == True)])\n",
    "\n",
    "print(\"Rate of bookings on holdout group: \", round(num_holdout_books / num_holdout, 2))\n",
    "print(\"Rate of bookings on variant group: \", round(num_variant_books / num_variant, 2))"
   ]
  },
  {
   "cell_type": "markdown",
   "metadata": {},
   "source": [
    "### 2. Is it statistically significant?\n",
    "\n",
    "To test the statistical significance of these results, we can perform a chi-squared test and compute the p-value. Without getting into the details of statistics, the p-value is very useful in determining if a result is significant.  The general rule is... the smaller the p-value, the more significant the result.  As a general rule of thumb, a p-value less than 0.001 signals an extremely siginificant result.\n",
    "\n",
    "To compute chi-squared and the p-value, we make use of the Python scipy stats package:"
   ]
  },
  {
   "cell_type": "code",
   "execution_count": 18,
   "metadata": {},
   "outputs": [
    {
     "name": "stdout",
     "output_type": "stream",
     "text": [
      "chisq = 110.02654262981699, p-value = 9.668740242878258e-26\n"
     ]
    }
   ],
   "source": [
    "# to test the statistical significance, we can use a chi-squared test\n",
    "contingency_matrix = pd.DataFrame([[num_holdout-num_holdout_books, num_holdout_books],\n",
    "                                  [num_variant-num_variant_books, num_variant_books]])\n",
    "\n",
    "contingency_matrix.index = ['holdout', 'variant']\n",
    "#contingency_matrix.reset_index(inplace=True, drop=False)\n",
    "\n",
    "contingency_matrix.columns = [\"not booked\", \"booked\"]\n",
    "\n",
    "observed = contingency_matrix.values\n",
    "\n",
    "result = chi2_contingency(observed)\n",
    "chisq, p = result[:2]\n",
    "print('chisq = {}, p-value = {}'.format(chisq, p))"
   ]
  },
  {
   "cell_type": "markdown",
   "metadata": {},
   "source": [
    "With such an extremely small value of p, we can say beyond a doubt (with better than 99% confidence!) that our results are significant: the \"variant\" version of the webpage does indeed lead to more bookings."
   ]
  },
  {
   "cell_type": "markdown",
   "metadata": {},
   "source": [
    "## VI. Search Engine Marketing\n",
    "\n",
    "Search engine advertising is a huge driver of new user accounts. Users that are aquired through search engine marketing can be identified by looking at people_person.channel . These users will have 'Google' listed there.\n",
    "Historically, this company spent an average of \\$30 per account to advertise in the 2nd position on Google. However, on 2017-04-12 , they decided to start bidding for the 1st position. Since 2017-04-12 , they have spent \\$210285 in total."
   ]
  },
  {
   "cell_type": "markdown",
   "metadata": {},
   "source": [
    "### 1. For each day, determine the count of users that joined and were acquired through Google. Plot this and confirm there is an inflection point on or near 2017-04-12 ."
   ]
  },
  {
   "cell_type": "code",
   "execution_count": 19,
   "metadata": {},
   "outputs": [
    {
     "data": {
      "image/png": "[encoded data removed]",
      "text/plain": [
       "<matplotlib.figure.Figure at 0x117fa5320>"
      ]
     },
     "metadata": {},
     "output_type": "display_data"
    }
   ],
   "source": [
    "people_person['date_joined'] = pd.to_datetime(people_person['date_joined'])\n",
    "\n",
    "google_joined = pd.DataFrame(people_person[people_person['channel'] == 'Google']['date_joined'])\n",
    "\n",
    "google_joined['date_joined'] = google_joined.date_joined.map(lambda x: x.strftime('%Y-%m-%d'))\n",
    "\n",
    "google_joined_count = dict(Counter(google_joined['date_joined']))\n",
    "\n",
    "count_df = pd.DataFrame(google_joined_count, index=[0]).T\n",
    "count_df.columns = ['num_joined']\n",
    "\n",
    "fig = plt.figure(figsize=(15, 8))\n",
    "count_df['num_joined'].plot()\n",
    "plt.title(\"Users Acquired through Google\")\n",
    "plt.xlabel(\"Date\")\n",
    "plt.ylabel(\"Number of Users Joined\")\n",
    "plt.show()"
   ]
  },
  {
   "cell_type": "markdown",
   "metadata": {},
   "source": [
    "The inflection point near 2017-04-12 is clearly evident."
   ]
  },
  {
   "cell_type": "markdown",
   "metadata": {},
   "source": [
    "### 2. How many users were acquired via Google advertising since 2017-04-12 and what was the average cost per account?"
   ]
  },
  {
   "cell_type": "code",
   "execution_count": 20,
   "metadata": {},
   "outputs": [
    {
     "name": "stdout",
     "output_type": "stream",
     "text": [
      "Number of users acquired via Google since 2017-04-12:  4673\n",
      "Average cost per account: $45\n"
     ]
    }
   ],
   "source": [
    "new_google_joined = google_joined[google_joined['date_joined'] >= '2017-04-12']\n",
    "\n",
    "num_new_google_joined = len(new_google_joined)\n",
    "\n",
    "print(\"Number of users acquired via Google since 2017-04-12: \", len(new_google_joined))\n",
    "\n",
    "total_cost = 210285\n",
    "\n",
    "print(\"Average cost per account: $\" + str(int(total_cost / num_new_google_joined)))"
   ]
  },
  {
   "cell_type": "markdown",
   "metadata": {},
   "source": [
    "### 3. Estimate how many users would have been acquired had the company not changed its bidding strategy. What would have been the marketing spend in that case?"
   ]
  },
  {
   "cell_type": "code",
   "execution_count": 21,
   "metadata": {},
   "outputs": [
    {
     "name": "stdout",
     "output_type": "stream",
     "text": [
      "slope of linear fit:  0.046\n",
      "intercept of linear fit:  0.735\n"
     ]
    }
   ],
   "source": [
    "# to find the estimated number of users acquired, we can fit a trend line to the data prior to 2017-04-12\n",
    "past_google_joined = google_joined[google_joined['date_joined'] < '2017-04-12']\n",
    "\n",
    "past_google_joined_count = dict(Counter(past_google_joined['date_joined']))\n",
    "\n",
    "count_df = pd.DataFrame(past_google_joined_count, index=[0]).T\n",
    "count_df.columns = ['num_joined']\n",
    "\n",
    "count_df = count_df.reset_index()\n",
    "\n",
    "count_df['index'] = pd.to_datetime(count_df['index'])\n",
    "\n",
    "count_df['days'] = (count_df['index'] - count_df['index'].min()).dt.days\n",
    "\n",
    "count_df.drop('index', axis=1, inplace=True)\n",
    "\n",
    "x = count_df['days'].tolist()\n",
    "y = count_df['num_joined'].tolist()\n",
    "slope, intercept, r_value, p_value, std_err = stats.linregress(x,y)\n",
    "\n",
    "m = round(slope, 3)\n",
    "b = round(intercept, 3)\n",
    "\n",
    "print(\"slope of linear fit: \", m)\n",
    "print(\"intercept of linear fit: \", b)"
   ]
  },
  {
   "cell_type": "markdown",
   "metadata": {},
   "source": [
    "So, the linear regression results in the linear equation:\n",
    "\n",
    "$$ NumberUsers = (0.046) \\,\\, day + 0.735 $$\n",
    "\n",
    "To get the estimated number of users after 2017-04-12, we need to sum this equation (or, in terms of calculus, integrate this equation).  The resulting equation would be:\n",
    "\n",
    "$$ TotalNumberUsers = (0.046) \\,\\, \\frac{(\\Delta \\, days)^2}{2} + 0.735 \\,\\, (\\Delta \\, days) $$\n",
    "\n",
    "where the \"delta days\" is just the number of days from 2017-04-12 to 2017-07-06 (i.e., 85 days)."
   ]
  },
  {
   "cell_type": "code",
   "execution_count": 22,
   "metadata": {},
   "outputs": [
    {
     "name": "stdout",
     "output_type": "stream",
     "text": [
      "Estimated number of users without change in strategy:  229\n",
      "Marketing spend without change in strategy: $6860\n"
     ]
    }
   ],
   "source": [
    "days = (pd.to_datetime('2017-07-06') - pd.to_datetime('2017-04-12')) / pd.Timedelta(1, 'd')\n",
    "total_num_users = m * math.pow(days, 2) / 2 + b * days\n",
    "cost_per_acct = 30\n",
    "marketing_spend = int(round(cost_per_acct * total_num_users, 0))\n",
    "print(\"Estimated number of users without change in strategy: \", int(round(total_num_users, 0)))\n",
    "print(\"Marketing spend without change in strategy: $\" + str(marketing_spend))"
   ]
  },
  {
   "cell_type": "markdown",
   "metadata": {},
   "source": [
    "### 4. How many additional accounts where created? What was the marginal cost per account for these additional accounts?"
   ]
  },
  {
   "cell_type": "code",
   "execution_count": 23,
   "metadata": {},
   "outputs": [
    {
     "name": "stdout",
     "output_type": "stream",
     "text": [
      "Number of additinoal accounts created:  4444\n",
      "Marginal cost per account: $45.78\n"
     ]
    }
   ],
   "source": [
    "num_add_accts = int(num_new_google_joined - total_num_users)\n",
    "print(\"Number of additinoal accounts created: \", num_add_accts)\n",
    "\n",
    "cost_diff = total_cost - marketing_spend\n",
    "marginal_cost_per_acct = cost_diff / num_add_accts\n",
    "print(\"Marginal cost per account: $\" + str(round(marginal_cost_per_acct, 2)))"
   ]
  },
  {
   "cell_type": "code",
   "execution_count": null,
   "metadata": {},
   "outputs": [],
   "source": []
  }
 ],
 "metadata": {
  "kernelspec": {
   "display_name": "Python 3",
   "language": "python",
   "name": "python3"
  },
  "language_info": {
   "codemirror_mode": {
    "name": "ipython",
    "version": 3
   },
   "file_extension": ".py",
   "mimetype": "text/x-python",
   "name": "python",
   "nbconvert_exporter": "python",
   "pygments_lexer": "ipython3",
   "version": "3.6.2"
  }
 },
 "nbformat": 4,
 "nbformat_minor": 2
}
